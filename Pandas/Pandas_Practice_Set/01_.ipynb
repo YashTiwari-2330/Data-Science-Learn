{
 "cells": [
  {
   "cell_type": "code",
   "execution_count": 1,
   "id": "9da94eb3-e43a-4869-bb64-31c89accd75d",
   "metadata": {},
   "outputs": [],
   "source": [
    "import pandas as pd\n",
    "import numpy as np"
   ]
  },
  {
   "cell_type": "code",
   "execution_count": 7,
   "id": "4a393835-cf81-4bae-a709-7c9231c96c34",
   "metadata": {},
   "outputs": [
    {
     "name": "stdout",
     "output_type": "stream",
     "text": [
      "   EmployeeID     Name Department  Age  Salary   JoinDate\n",
      "0         101    Alice         HR   25   50000 2018-01-15\n",
      "1         102      Bob         IT   30   60000 2020-03-01\n",
      "2         103  Charlie    Finance   45  120000 2010-06-23\n",
      "3         104    David         IT   28   75000 2019-07-19\n",
      "4         105      Eve         HR   35   62000 2015-05-01\n",
      "5         106    Frank    Finance   50  130000 2008-11-30\n"
     ]
    }
   ],
   "source": [
    "data = {\n",
    "    \"EmployeeID\": [101, 102, 103, 104, 105, 106],\n",
    "    \"Name\": [\"Alice\", \"Bob\", \"Charlie\", \"David\", \"Eve\", \"Frank\"],\n",
    "    \"Department\": [\"HR\", \"IT\", \"Finance\", \"IT\", \"HR\", \"Finance\"],\n",
    "    \"Age\": [25, 30, 45, 28, 35, 50],\n",
    "    \"Salary\": [50000, 60000, 120000, 75000, 62000, 130000],\n",
    "    \"JoinDate\": [\"2018-01-15\", \"2020-03-01\", \"2010-06-23\", \"2019-07-19\", \"2015-05-01\", \"2008-11-30\"]\n",
    "}\n",
    "\n",
    "df = pd.DataFrame(data)\n",
    "df[\"JoinDate\"] = pd.to_datetime(df[\"JoinDate\"])\n",
    "print(df)"
   ]
  },
  {
   "cell_type": "code",
   "execution_count": null,
   "id": "46d3cbf1-9d2c-4d61-8317-9774088d54d2",
   "metadata": {},
   "outputs": [],
   "source": [
    "#PRACTICE EXERCISES "
   ]
  },
  {
   "cell_type": "code",
   "execution_count": 11,
   "id": "735b0481-b09b-4237-a16b-059844c60123",
   "metadata": {},
   "outputs": [
    {
     "name": "stdout",
     "output_type": "stream",
     "text": [
      "   EmployeeID     Name Department  Age  Salary   JoinDate\n",
      "0         101    Alice         HR   25   50000 2018-01-15\n",
      "1         102      Bob         IT   30   60000 2020-03-01\n",
      "2         103  Charlie    Finance   45  120000 2010-06-23\n",
      "3         104    David         IT   28   75000 2019-07-19\n",
      "4         105      Eve         HR   35   62000 2015-05-01\n",
      "5         106    Frank    Finance   50  130000 2008-11-30\n"
     ]
    }
   ],
   "source": [
    "print(df.head())"
   ]
  },
  {
   "cell_type": "code",
   "execution_count": 13,
   "id": "88d31f5a-0244-4dad-a332-77631698a845",
   "metadata": {},
   "outputs": [
    {
     "name": "stdout",
     "output_type": "stream",
     "text": [
      "<class 'pandas.core.frame.DataFrame'>\n",
      "RangeIndex: 6 entries, 0 to 5\n",
      "Data columns (total 6 columns):\n",
      " #   Column      Non-Null Count  Dtype         \n",
      "---  ------      --------------  -----         \n",
      " 0   EmployeeID  6 non-null      int64         \n",
      " 1   Name        6 non-null      object        \n",
      " 2   Department  6 non-null      object        \n",
      " 3   Age         6 non-null      int64         \n",
      " 4   Salary      6 non-null      int64         \n",
      " 5   JoinDate    6 non-null      datetime64[ns]\n",
      "dtypes: datetime64[ns](1), int64(3), object(2)\n",
      "memory usage: 420.0+ bytes\n",
      "None\n"
     ]
    }
   ],
   "source": [
    "print(df.info())"
   ]
  },
  {
   "cell_type": "code",
   "execution_count": 14,
   "id": "9842b93b-04fb-4b8a-b18c-f856d6010baa",
   "metadata": {},
   "outputs": [
    {
     "name": "stdout",
     "output_type": "stream",
     "text": [
      "       EmployeeID        Age         Salary             JoinDate\n",
      "count    6.000000   6.000000       6.000000                    6\n",
      "mean   103.500000  35.500000   82833.333333  2015-05-31 00:00:00\n",
      "min    101.000000  25.000000   50000.000000  2008-11-30 00:00:00\n",
      "25%    102.250000  28.500000   60500.000000  2011-09-09 06:00:00\n",
      "50%    103.500000  32.500000   68500.000000  2016-09-07 00:00:00\n",
      "75%    104.750000  42.500000  108750.000000  2019-03-03 12:00:00\n",
      "max    106.000000  50.000000  130000.000000  2020-03-01 00:00:00\n",
      "std      1.870829   9.974969   33766.354062                  NaN\n"
     ]
    }
   ],
   "source": [
    "print(df.describe())"
   ]
  },
  {
   "cell_type": "code",
   "execution_count": null,
   "id": "ab16e157-34b7-49b9-a4ef-4c19c6ac6505",
   "metadata": {},
   "outputs": [],
   "source": [
    "#FILTERNING DATA"
   ]
  },
  {
   "cell_type": "code",
   "execution_count": 15,
   "id": "ef3b4138-10a6-4aa7-aca7-419dd9938780",
   "metadata": {},
   "outputs": [
    {
     "name": "stdout",
     "output_type": "stream",
     "text": [
      "   EmployeeID     Name Department  Age  Salary   JoinDate\n",
      "1         102      Bob         IT   30   60000 2020-03-01\n",
      "2         103  Charlie    Finance   45  120000 2010-06-23\n",
      "3         104    David         IT   28   75000 2019-07-19\n",
      "4         105      Eve         HR   35   62000 2015-05-01\n",
      "5         106    Frank    Finance   50  130000 2008-11-30\n"
     ]
    }
   ],
   "source": [
    "print(df[df[\"Age\"] > 25])"
   ]
  },
  {
   "cell_type": "code",
   "execution_count": 20,
   "id": "734d7f1f-b732-4cb1-adc9-e77a91856088",
   "metadata": {},
   "outputs": [],
   "source": [
    "#Sorting data by salary descending"
   ]
  },
  {
   "cell_type": "code",
   "execution_count": 25,
   "id": "573250f4-c2ab-457e-a112-7e6acce9189a",
   "metadata": {},
   "outputs": [
    {
     "name": "stdout",
     "output_type": "stream",
     "text": [
      "   EmployeeID     Name Department  Age  Salary   JoinDate\n",
      "5         106    Frank    Finance   50  130000 2008-11-30\n",
      "2         103  Charlie    Finance   45  120000 2010-06-23\n",
      "3         104    David         IT   28   75000 2019-07-19\n",
      "4         105      Eve         HR   35   62000 2015-05-01\n",
      "1         102      Bob         IT   30   60000 2020-03-01\n",
      "0         101    Alice         HR   25   50000 2018-01-15\n"
     ]
    }
   ],
   "source": [
    "print(df.sort_values(by=\"Salary\", ascending=False))\n"
   ]
  },
  {
   "cell_type": "code",
   "execution_count": 26,
   "id": "80c47162-4a8a-4078-b13a-a5e49ccdc914",
   "metadata": {},
   "outputs": [],
   "source": [
    "#FIND AVERAGE SALARY BY DEPARTMENT"
   ]
  },
  {
   "cell_type": "code",
   "execution_count": 29,
   "id": "ee04147d-ce4c-4cc8-a9e6-df3d77310674",
   "metadata": {},
   "outputs": [
    {
     "name": "stdout",
     "output_type": "stream",
     "text": [
      "Department\n",
      "Finance    125000.0\n",
      "HR          56000.0\n",
      "IT          67500.0\n",
      "Name: Salary, dtype: float64\n"
     ]
    }
   ],
   "source": [
    "print(df.groupby(\"Department\")[\"Salary\"].mean())"
   ]
  },
  {
   "cell_type": "code",
   "execution_count": 30,
   "id": "09bab938-32e7-4879-a6c3-889a6537ad07",
   "metadata": {},
   "outputs": [],
   "source": [
    "#ADDING A NEW COLUMNS YEAR IN COMPANY"
   ]
  },
  {
   "cell_type": "code",
   "execution_count": 31,
   "id": "08ff6ca1-14df-4572-89b5-59649d7eb135",
   "metadata": {},
   "outputs": [
    {
     "name": "stdout",
     "output_type": "stream",
     "text": [
      "      Name  YearsInCompany\n",
      "5    Frank              16\n",
      "2  Charlie              15\n",
      "3    David               5\n",
      "4      Eve              10\n",
      "1      Bob               5\n",
      "0    Alice               7\n"
     ]
    }
   ],
   "source": [
    "from datetime import datetime\n",
    "\n",
    "today = pd.to_datetime(\"today\")\n",
    "df[\"YearsInCompany\"] = (today - df[\"JoinDate\"]).dt.days // 365\n",
    "\n",
    "print(df[[\"Name\" , \"YearsInCompany\"]])"
   ]
  },
  {
   "cell_type": "code",
   "execution_count": 33,
   "id": "01ed3e92-f075-4c8c-a172-101a3b2d24ca",
   "metadata": {},
   "outputs": [
    {
     "name": "stdout",
     "output_type": "stream",
     "text": [
      "   EmployeeID     Name Department  Age  Salary   JoinDate  YearsInCompany\n",
      "0         101    Alice         HR   25   50000 2018-01-15               7\n",
      "1         102      Bob         IT   30   60000 2020-03-01               5\n",
      "2         103  Charlie    Finance   45  120000 2010-06-23              15\n",
      "3         104    David         IT   28   75000 2019-07-19               5\n",
      "4         105      Eve         HR   35   62000 2015-05-01              10\n",
      "5         106    Frank    Finance   50  130000 2008-11-30              16\n"
     ]
    }
   ],
   "source": [
    "print(df.sort_index())"
   ]
  },
  {
   "cell_type": "code",
   "execution_count": 34,
   "id": "f6abf8c4-08d2-4158-9721-1ef594dc6554",
   "metadata": {},
   "outputs": [],
   "source": [
    "# Handal Misiing Values"
   ]
  },
  {
   "cell_type": "code",
   "execution_count": 36,
   "id": "47c3ff53-d852-446b-857b-b1ff5914f771",
   "metadata": {},
   "outputs": [
    {
     "name": "stdout",
     "output_type": "stream",
     "text": [
      "   EmployeeID     Name Department  Age    Salary   JoinDate  YearsInCompany\n",
      "5         106    Frank    Finance   50  130000.0 2008-11-30              16\n",
      "2         103  Charlie    Finance   45       NaN 2010-06-23              15\n",
      "3         104    David         IT   28   75000.0 2019-07-19               5\n",
      "4         105      Eve         HR   35   62000.0 2015-05-01              10\n",
      "1         102      Bob         IT   30   60000.0 2020-03-01               5\n",
      "0         101    Alice         HR   25   50000.0 2018-01-15               7\n"
     ]
    }
   ],
   "source": [
    "df.loc[2 , \"Salary\"] = None\n",
    "print(df)"
   ]
  },
  {
   "cell_type": "code",
   "execution_count": 37,
   "id": "3928722b-6e02-4b92-a253-38f547dfd70d",
   "metadata": {},
   "outputs": [
    {
     "name": "stdout",
     "output_type": "stream",
     "text": [
      "   EmployeeID   Name  Department    Age  Salary  JoinDate  YearsInCompany\n",
      "5       False  False       False  False   False     False           False\n",
      "2       False  False       False  False    True     False           False\n",
      "3       False  False       False  False   False     False           False\n",
      "4       False  False       False  False   False     False           False\n",
      "1       False  False       False  False   False     False           False\n",
      "0       False  False       False  False   False     False           False\n"
     ]
    }
   ],
   "source": [
    "print(df.isnull())"
   ]
  },
  {
   "cell_type": "code",
   "execution_count": 38,
   "id": "98daeb48-ae11-48d8-bd05-eba1c6672a26",
   "metadata": {},
   "outputs": [
    {
     "name": "stdout",
     "output_type": "stream",
     "text": [
      "EmployeeID        0\n",
      "Name              0\n",
      "Department        0\n",
      "Age               0\n",
      "Salary            1\n",
      "JoinDate          0\n",
      "YearsInCompany    0\n",
      "dtype: int64\n"
     ]
    }
   ],
   "source": [
    "print(df.isnull().sum())"
   ]
  },
  {
   "cell_type": "code",
   "execution_count": 39,
   "id": "32a37d17-8e17-4f22-95ae-543aed7e9847",
   "metadata": {},
   "outputs": [],
   "source": [
    "#FILL MISIING VALUES WITH AVERAGE OF SALARY"
   ]
  },
  {
   "cell_type": "code",
   "execution_count": 43,
   "id": "28dddc88-86c0-4855-bc1e-997bdf34c62f",
   "metadata": {},
   "outputs": [
    {
     "data": {
      "text/plain": [
       "5    130000.0\n",
       "2     75400.0\n",
       "3     75000.0\n",
       "4     62000.0\n",
       "1     60000.0\n",
       "0     50000.0\n",
       "Name: Salary, dtype: float64"
      ]
     },
     "execution_count": 43,
     "metadata": {},
     "output_type": "execute_result"
    }
   ],
   "source": [
    "\n",
    "df[\"Salary\"].fillna(df[\"Salary\"].mean())"
   ]
  },
  {
   "cell_type": "code",
   "execution_count": 46,
   "id": "94d7f7a0-fd44-4765-9112-ca0a1079e9c3",
   "metadata": {},
   "outputs": [
    {
     "name": "stdout",
     "output_type": "stream",
     "text": [
      "   EmployeeID     Name Department  Age    Salary   JoinDate  YearsInCompany\n",
      "0         101    Alice         HR   25   50000.0 2018-01-15               7\n",
      "1         102      Bob         IT   30   60000.0 2020-03-01               5\n",
      "2         103  Charlie    Finance   45   75400.0 2010-06-23              15\n",
      "3         104    David         IT   28   75000.0 2019-07-19               5\n",
      "4         105      Eve         HR   35   62000.0 2015-05-01              10\n",
      "5         106    Frank    Finance   50  130000.0 2008-11-30              16\n"
     ]
    }
   ],
   "source": [
    "print(df.sort_index())"
   ]
  },
  {
   "cell_type": "code",
   "execution_count": 47,
   "id": "71c8c3f8-fc6b-4666-8b25-12b93e2ff519",
   "metadata": {},
   "outputs": [],
   "source": [
    "#VALUE COUNT HOW MANY EMPLOYEES IN ONE DEPARTMENT"
   ]
  },
  {
   "cell_type": "code",
   "execution_count": 48,
   "id": "657afd6f-4619-4ee0-aa8e-00c11aecf6bd",
   "metadata": {},
   "outputs": [
    {
     "name": "stdout",
     "output_type": "stream",
     "text": [
      "Department\n",
      "Finance    2\n",
      "IT         2\n",
      "HR         2\n",
      "Name: count, dtype: int64\n"
     ]
    }
   ],
   "source": [
    "print(df[\"Department\"].value_counts())"
   ]
  },
  {
   "cell_type": "code",
   "execution_count": 49,
   "id": "6712ab78-a08b-45e8-9d8e-7051579fc9ed",
   "metadata": {},
   "outputs": [],
   "source": [
    "#RENAME COLUMNS"
   ]
  },
  {
   "cell_type": "code",
   "execution_count": 53,
   "id": "4e02f188-a3ab-48a2-aa9f-fd202af5efcc",
   "metadata": {},
   "outputs": [
    {
     "name": "stdout",
     "output_type": "stream",
     "text": [
      "   EmployeeID     Name Department  Age  Monthly_Salary   JoinDate  \\\n",
      "5         106    Frank    Finance   50        130000.0 2008-11-30   \n",
      "2         103  Charlie    Finance   45         75400.0 2010-06-23   \n",
      "3         104    David         IT   28         75000.0 2019-07-19   \n",
      "4         105      Eve         HR   35         62000.0 2015-05-01   \n",
      "1         102      Bob         IT   30         60000.0 2020-03-01   \n",
      "0         101    Alice         HR   25         50000.0 2018-01-15   \n",
      "\n",
      "   YearsInCompany  \n",
      "5              16  \n",
      "2              15  \n",
      "3               5  \n",
      "4              10  \n",
      "1               5  \n",
      "0               7  \n"
     ]
    }
   ],
   "source": [
    "print(df.rename(columns={\"Salary\" : \"Monthly_Salary\"}))"
   ]
  },
  {
   "cell_type": "code",
   "execution_count": 54,
   "id": "c539b3b9-47cd-4b2b-87cc-77941b508a42",
   "metadata": {},
   "outputs": [],
   "source": [
    "#DROP COLUMN"
   ]
  },
  {
   "cell_type": "code",
   "execution_count": 56,
   "id": "b8689be9-e964-405f-bdda-61c622550d94",
   "metadata": {},
   "outputs": [
    {
     "name": "stdout",
     "output_type": "stream",
     "text": [
      "      Name Department  Age    Salary   JoinDate  YearsInCompany\n",
      "5    Frank    Finance   50  130000.0 2008-11-30              16\n",
      "2  Charlie    Finance   45   75400.0 2010-06-23              15\n",
      "3    David         IT   28   75000.0 2019-07-19               5\n",
      "4      Eve         HR   35   62000.0 2015-05-01              10\n",
      "1      Bob         IT   30   60000.0 2020-03-01               5\n",
      "0    Alice         HR   25   50000.0 2018-01-15               7\n"
     ]
    }
   ],
   "source": [
    "remove_columns = df.drop(columns=[\"EmployeeID\"])\n",
    "print(remove_columns)"
   ]
  },
  {
   "cell_type": "code",
   "execution_count": 57,
   "id": "1571710e-8bb8-4413-8a37-0efaf39f12b4",
   "metadata": {},
   "outputs": [
    {
     "name": "stdout",
     "output_type": "stream",
     "text": [
      "   EmployeeID     Name Department  Age    Salary   JoinDate  YearsInCompany\n",
      "0         101    Alice         HR   25   50000.0 2018-01-15               7\n",
      "1         102      Bob         IT   30   60000.0 2020-03-01               5\n",
      "2         103  Charlie    Finance   45   75400.0 2010-06-23              15\n",
      "3         104    David         IT   28   75000.0 2019-07-19               5\n",
      "4         105      Eve         HR   35   62000.0 2015-05-01              10\n",
      "5         106    Frank    Finance   50  130000.0 2008-11-30              16\n"
     ]
    }
   ],
   "source": [
    "print(df.sort_index())"
   ]
  },
  {
   "cell_type": "code",
   "execution_count": 58,
   "id": "42eb1090-191e-4704-a5b1-0b60d186a778",
   "metadata": {},
   "outputs": [],
   "source": [
    "#FIND HIGHEST - PAID EMPLOYEE IN HR"
   ]
  },
  {
   "cell_type": "code",
   "execution_count": 59,
   "id": "d5289bab-466e-4ed7-abab-8d0b2f6f767b",
   "metadata": {},
   "outputs": [
    {
     "name": "stdout",
     "output_type": "stream",
     "text": [
      "Highest Paid in HR :-\n",
      "   EmployeeID Name Department  Age   Salary   JoinDate  YearsInCompany\n",
      "4         105  Eve         HR   35  62000.0 2015-05-01              10\n"
     ]
    }
   ],
   "source": [
    "high = df[df[\"Department\"] == \"HR\"]\n",
    "high_paid_hr = high[high[\"Salary\"] == high[\"Salary\"].max()]\n",
    "\n",
    "print(\"Highest Paid in HR :-\")\n",
    "print(high_paid_hr)"
   ]
  },
  {
   "cell_type": "code",
   "execution_count": 60,
   "id": "53c45dec-5ff8-4a3f-b426-3b7132fc614a",
   "metadata": {},
   "outputs": [],
   "source": [
    "# LEST EMPLOYEE WHO HAVE BEEN IN THE COMPANYE FOR 10 YEARS"
   ]
  },
  {
   "cell_type": "code",
   "execution_count": 61,
   "id": "873a38ba-cafa-4ee8-a68c-2c45089cdcf6",
   "metadata": {},
   "outputs": [
    {
     "name": "stdout",
     "output_type": "stream",
     "text": [
      "Employee with more than 10 years:-\n",
      "   EmployeeID     Name Department  Age    Salary   JoinDate  YearsInCompany\n",
      "5         106    Frank    Finance   50  130000.0 2008-11-30              16\n",
      "2         103  Charlie    Finance   45   75400.0 2010-06-23              15\n"
     ]
    }
   ],
   "source": [
    "over_10_years = df[df[\"YearsInCompany\"] > 10]\n",
    "\n",
    "print(\"Employee with more than 10 years:-\")\n",
    "print(over_10_years)"
   ]
  },
  {
   "cell_type": "code",
   "execution_count": 62,
   "id": "bdce62e3-e565-4769-93fe-eb49b8bbcc98",
   "metadata": {},
   "outputs": [],
   "source": [
    "# SAAVE TO LOAD CSV"
   ]
  },
  {
   "cell_type": "code",
   "execution_count": 64,
   "id": "fda871a0-5212-4bb0-8030-7563a38f2617",
   "metadata": {},
   "outputs": [],
   "source": [
    "df.to_csv(\"Employee_Data\" , index = False)"
   ]
  },
  {
   "cell_type": "code",
   "execution_count": null,
   "id": "b739dce1-9928-4c19-9c08-e59c0f9b059a",
   "metadata": {},
   "outputs": [],
   "source": []
  }
 ],
 "metadata": {
  "kernelspec": {
   "display_name": "Python 3 (ipykernel)",
   "language": "python",
   "name": "python3"
  },
  "language_info": {
   "codemirror_mode": {
    "name": "ipython",
    "version": 3
   },
   "file_extension": ".py",
   "mimetype": "text/x-python",
   "name": "python",
   "nbconvert_exporter": "python",
   "pygments_lexer": "ipython3",
   "version": "3.12.7"
  }
 },
 "nbformat": 4,
 "nbformat_minor": 5
}
